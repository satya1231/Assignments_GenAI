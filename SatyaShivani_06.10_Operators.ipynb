{
 "cells": [
  {
   "cell_type": "code",
   "execution_count": 5,
   "id": "436962fa-33fb-4f86-83c3-c7aff73ecad2",
   "metadata": {},
   "outputs": [
    {
     "name": "stdin",
     "output_type": "stream",
     "text": [
      "please enter the 1st number:  234\n",
      "please enter the 2nd number:  123\n"
     ]
    },
    {
     "name": "stdout",
     "output_type": "stream",
     "text": [
      "357\n",
      "111\n",
      "28782\n",
      "1.9024390243902438\n",
      "1\n",
      "69885\n",
      "111\n"
     ]
    }
   ],
   "source": [
    "#take input from the user to print sum, product, divide, subtract, exponetial\n",
    "a = int(input(\"please enter the 1st number: \"))\n",
    "b = int(input(\"please enter the 2nd number: \"))\n",
    "print(a + b)\n",
    "print(a - b)\n",
    "print(a * b)\n",
    "print(a / b)\n",
    "print(a // b)\n",
    "print(a ** 2 + b ** 2)\n",
    "print(a % b)"
   ]
  },
  {
   "cell_type": "code",
   "execution_count": 7,
   "id": "28b42956-da54-48e3-ab22-efb2de8a810e",
   "metadata": {},
   "outputs": [
    {
     "name": "stdin",
     "output_type": "stream",
     "text": [
      "please enter a number:  9\n"
     ]
    },
    {
     "name": "stdout",
     "output_type": "stream",
     "text": [
      "True\n"
     ]
    }
   ],
   "source": [
    "#take input from the user and check whether the number exists in a sequence or not\n",
    "sequence = [1,2,3,4,5,6,7,8,9]\n",
    "a = int(input(\"please enter a number: \"))\n",
    "print(a in sequence)"
   ]
  },
  {
   "cell_type": "code",
   "execution_count": null,
   "id": "1ac4cc06-4d06-45cf-a69a-f1ae0f827629",
   "metadata": {},
   "outputs": [],
   "source": [
    "#few examples on assignment operator"
   ]
  },
  {
   "cell_type": "code",
   "execution_count": 9,
   "id": "12fd4e63-a77b-447c-93e6-1504cc21ece3",
   "metadata": {},
   "outputs": [
    {
     "name": "stdout",
     "output_type": "stream",
     "text": [
      "5 3\n"
     ]
    }
   ],
   "source": [
    "#add and assign\n",
    "a = 2\n",
    "b = 3\n",
    "a += b\n",
    "print(a, b)"
   ]
  },
  {
   "cell_type": "code",
   "execution_count": 10,
   "id": "122d29eb-763b-4d28-a663-8875873b0553",
   "metadata": {},
   "outputs": [
    {
     "name": "stdout",
     "output_type": "stream",
     "text": [
      "-1 3\n"
     ]
    }
   ],
   "source": [
    "#subtract and assign\n",
    "a = 2\n",
    "b = 3\n",
    "a -= b\n",
    "print(a, b)"
   ]
  },
  {
   "cell_type": "code",
   "execution_count": 11,
   "id": "af27a7b1-4e84-43d4-b72f-19d889cd9fb7",
   "metadata": {},
   "outputs": [
    {
     "name": "stdout",
     "output_type": "stream",
     "text": [
      "6 3\n"
     ]
    }
   ],
   "source": [
    "#multiply and assign\n",
    "a = 2\n",
    "b = 3\n",
    "a *= b\n",
    "print(a, b)"
   ]
  },
  {
   "cell_type": "code",
   "execution_count": 12,
   "id": "f82e7862-9204-47b6-ba1f-20ae495eeb1c",
   "metadata": {},
   "outputs": [
    {
     "name": "stdout",
     "output_type": "stream",
     "text": [
      "0.6666666666666666 3\n"
     ]
    }
   ],
   "source": [
    "#divide and assign\n",
    "a = 2\n",
    "b = 3\n",
    "a /= b\n",
    "print(a, b)"
   ]
  },
  {
   "cell_type": "code",
   "execution_count": 14,
   "id": "09136cf0-975d-4eec-a15f-fd84881a6ca5",
   "metadata": {},
   "outputs": [
    {
     "name": "stdout",
     "output_type": "stream",
     "text": [
      "2 3\n"
     ]
    }
   ],
   "source": [
    "#modulus and assign\n",
    "a = 2\n",
    "b = 3\n",
    "a %= b\n",
    "print(a, b)"
   ]
  },
  {
   "cell_type": "code",
   "execution_count": 25,
   "id": "d0c0a23c-3b1a-46fc-9436-a8dc774c0483",
   "metadata": {},
   "outputs": [
    {
     "name": "stdout",
     "output_type": "stream",
     "text": [
      "0 3\n"
     ]
    }
   ],
   "source": [
    "#floor division\n",
    "a = 2\n",
    "b = 3\n",
    "a //= b\n",
    "print(a, b)"
   ]
  },
  {
   "cell_type": "code",
   "execution_count": null,
   "id": "fcbfb7b0-92ac-491c-b8ab-947aba628a9b",
   "metadata": {},
   "outputs": [],
   "source": [
    "#examples on comparision operator"
   ]
  },
  {
   "cell_type": "code",
   "execution_count": 16,
   "id": "a96fc1c0-8fb6-4f4b-b596-f15ed44e550d",
   "metadata": {},
   "outputs": [
    {
     "name": "stdout",
     "output_type": "stream",
     "text": [
      "True\n"
     ]
    }
   ],
   "source": [
    "a = 2\n",
    "b = 3\n",
    "print(a < b)"
   ]
  },
  {
   "cell_type": "code",
   "execution_count": 17,
   "id": "8474f40d-4ecf-4487-ac97-c8eddf2cbaad",
   "metadata": {},
   "outputs": [
    {
     "name": "stdout",
     "output_type": "stream",
     "text": [
      "False\n"
     ]
    }
   ],
   "source": [
    "a = 2\n",
    "b = 3\n",
    "print(a > b)"
   ]
  },
  {
   "cell_type": "code",
   "execution_count": 18,
   "id": "a14760f8-6328-4808-91de-bd0f4a6f8876",
   "metadata": {},
   "outputs": [
    {
     "name": "stdout",
     "output_type": "stream",
     "text": [
      "True\n"
     ]
    }
   ],
   "source": [
    "a = 2\n",
    "b = 3\n",
    "print(a <= b)"
   ]
  },
  {
   "cell_type": "code",
   "execution_count": 19,
   "id": "16b8a11d-d111-4c18-823b-a2356a315d43",
   "metadata": {},
   "outputs": [
    {
     "name": "stdout",
     "output_type": "stream",
     "text": [
      "False\n"
     ]
    }
   ],
   "source": [
    "a = 2\n",
    "b = 3\n",
    "print(a >= b)"
   ]
  },
  {
   "cell_type": "code",
   "execution_count": 20,
   "id": "f84228b3-6160-443e-95bf-3efa80e7c98e",
   "metadata": {},
   "outputs": [
    {
     "name": "stdout",
     "output_type": "stream",
     "text": [
      "False\n"
     ]
    }
   ],
   "source": [
    "a = 2\n",
    "b = 3\n",
    "print(a == b)"
   ]
  },
  {
   "cell_type": "code",
   "execution_count": 21,
   "id": "24d61b6d-7914-4eef-b3fe-a53c8bd7973a",
   "metadata": {},
   "outputs": [
    {
     "name": "stdout",
     "output_type": "stream",
     "text": [
      "True\n"
     ]
    }
   ],
   "source": [
    "a = 2\n",
    "b = 3\n",
    "print(a != b)"
   ]
  },
  {
   "cell_type": "code",
   "execution_count": null,
   "id": "ca72978d-7193-43bf-9b07-9ca89408af0a",
   "metadata": {},
   "outputs": [],
   "source": [
    "#examples on identity operator"
   ]
  },
  {
   "cell_type": "code",
   "execution_count": 22,
   "id": "c073d7ce-4c07-4531-8f9d-84a4ac6626db",
   "metadata": {},
   "outputs": [
    {
     "name": "stdout",
     "output_type": "stream",
     "text": [
      "[10, 20, 30, 40, 50, 60]\n",
      "[10, 20, 30, 40, 50, 60]\n",
      "True\n"
     ]
    }
   ],
   "source": [
    "a = [1,2,3,4,5,6,7,8,9]\n",
    "b = [10,20,30,40,50,60]\n",
    "a = b\n",
    "print(a)\n",
    "print(b)\n",
    "print(a is b)"
   ]
  },
  {
   "cell_type": "code",
   "execution_count": 23,
   "id": "146754b8-7d7e-4944-bebf-e4f97242ad13",
   "metadata": {},
   "outputs": [
    {
     "name": "stdout",
     "output_type": "stream",
     "text": [
      "[1, 2, 3, 4, 5, 6, 7, 8, 9]\n",
      "[10, 20, 30, 40, 50, 60]\n",
      "False\n"
     ]
    }
   ],
   "source": [
    "a = [1,2,3,4,5,6,7,8,9]\n",
    "b = [10,20,30,40,50,60]\n",
    "print(a)\n",
    "print(b)\n",
    "print(a is b)"
   ]
  },
  {
   "cell_type": "code",
   "execution_count": 24,
   "id": "df272917-c832-4c26-8116-193f0d2cf362",
   "metadata": {},
   "outputs": [
    {
     "name": "stdout",
     "output_type": "stream",
     "text": [
      "[1, 2, 3, 4, 5, 6, 7, 8, 9]\n",
      "[10, 20, 30, 40, 50, 60]\n",
      "True\n"
     ]
    }
   ],
   "source": [
    "a = [1,2,3,4,5,6,7,8,9]\n",
    "b = [10,20,30,40,50,60]\n",
    "print(a)\n",
    "print(b)\n",
    "print(a is not b)"
   ]
  },
  {
   "cell_type": "code",
   "execution_count": 26,
   "id": "c75f103f-6779-471e-b611-de5f1ccf6e5e",
   "metadata": {},
   "outputs": [
    {
     "name": "stdout",
     "output_type": "stream",
     "text": [
      "5\n",
      "1\n",
      "6\n",
      "1.5\n",
      "1\n",
      "1\n"
     ]
    }
   ],
   "source": [
    "'''Arithmetic operators\n",
    "They are used to perform mathematical operations.\n",
    "Below are the list of arithmetic operators.'''\n",
    "a = 3\n",
    "b = 2\n",
    "print(a+b) #addition\n",
    "print(a-b) #subtraction\n",
    "print(a*b) #multiplication\n",
    "print(a/b) #division\n",
    "print(a//b) #floor division\n",
    "print(a%b) #modulus"
   ]
  },
  {
   "cell_type": "code",
   "execution_count": null,
   "id": "9dcbcfb4-458c-4d5f-ab24-c600aca80364",
   "metadata": {},
   "outputs": [],
   "source": [
    "#difference between = and == operators"
   ]
  },
  {
   "cell_type": "code",
   "execution_count": 27,
   "id": "b9f8f55f-00fc-4560-83d8-9e137b701a20",
   "metadata": {},
   "outputs": [
    {
     "name": "stdout",
     "output_type": "stream",
     "text": [
      "3 3\n"
     ]
    }
   ],
   "source": [
    "# \"=\" is an assignment operator\n",
    "a = 2\n",
    "b = 3\n",
    "a = b\n",
    "print(a,b)"
   ]
  },
  {
   "cell_type": "code",
   "execution_count": 29,
   "id": "04c8735f-554c-4229-9b6f-fd930dd7c12b",
   "metadata": {},
   "outputs": [
    {
     "name": "stdout",
     "output_type": "stream",
     "text": [
      "False\n",
      "2 3\n"
     ]
    }
   ],
   "source": [
    "# \"==\" is refered to the data stored in a variable\n",
    "a = 2\n",
    "b = 3\n",
    "print(a == b)\n",
    "print(a,b)"
   ]
  },
  {
   "cell_type": "code",
   "execution_count": null,
   "id": "1464c814-8ef4-4146-93d4-d1e11ebb94c3",
   "metadata": {},
   "outputs": [],
   "source": [
    "'''difference between AND & NOT\n",
    "(true) and (true) = (true)\n",
    "(true) and (false) = (false)\n",
    "not(true) = (false)\n",
    "not(false) = (true)'''"
   ]
  },
  {
   "cell_type": "code",
   "execution_count": 38,
   "id": "42281a2f-bd94-4e62-89fd-d758dcfda8d5",
   "metadata": {},
   "outputs": [
    {
     "name": "stdout",
     "output_type": "stream",
     "text": [
      "True\n",
      "False\n",
      "True\n"
     ]
    }
   ],
   "source": [
    "x=10\n",
    "y=20\n",
    "z=30\n",
    "print(x<y and y<z)\n",
    "print(x>y and y<z)\n",
    "print(not(x>y and y<z))"
   ]
  },
  {
   "cell_type": "code",
   "execution_count": null,
   "id": "281ed2a4-82fe-45e0-9353-bb64097ef920",
   "metadata": {},
   "outputs": [],
   "source": [
    "'''identity operators:\n",
    "They are used to check if two variables or objects refer to the same location.'''\n"
   ]
  },
  {
   "cell_type": "code",
   "execution_count": 39,
   "id": "0daa5984-a78b-47d1-a632-fa201fc467be",
   "metadata": {},
   "outputs": [
    {
     "name": "stdout",
     "output_type": "stream",
     "text": [
      "True\n",
      "False\n"
     ]
    }
   ],
   "source": [
    "a = 20\n",
    "b = 30\n",
    "a = b\n",
    "print(a is b)\n",
    "print(a is not b)"
   ]
  },
  {
   "cell_type": "code",
   "execution_count": 40,
   "id": "a38d4f0d-610c-4980-979b-e4f25e6adb6b",
   "metadata": {},
   "outputs": [
    {
     "name": "stdout",
     "output_type": "stream",
     "text": [
      "False\n",
      "True\n"
     ]
    }
   ],
   "source": [
    "a = 20\n",
    "b = 30\n",
    "print(a is b)\n",
    "print(a is not b)"
   ]
  },
  {
   "cell_type": "code",
   "execution_count": null,
   "id": "0cddc29a-d52f-4084-ad52-45078dd46094",
   "metadata": {},
   "outputs": [],
   "source": [
    "'''Membership operators:\n",
    "They are used to check if a value is present in a sequence(like a string, list, tuple, set)\n",
    "or if a key exists within a dictionary.\n",
    "They return a boolean value(true or false)'''"
   ]
  },
  {
   "cell_type": "code",
   "execution_count": 42,
   "id": "3db14b66-9f2a-4585-a1cc-4749adc892b7",
   "metadata": {},
   "outputs": [
    {
     "name": "stdout",
     "output_type": "stream",
     "text": [
      "True\n"
     ]
    }
   ],
   "source": [
    "cars = ['maruti', 'volkswagon', 'spyker', 'maserati', 'ashton martin']\n",
    "print('maserati' in cars)\n"
   ]
  },
  {
   "cell_type": "code",
   "execution_count": null,
   "id": "2a1157f7-98b2-46f6-be2e-b52313408bf4",
   "metadata": {},
   "outputs": [],
   "source": [
    "'''\n",
    "1. They are used in set operations\n",
    "2. They are used in conditional statements and loops\n",
    "3. They are used in checking whether a value is present in a sequence or not\n",
    "4. They are used to ckeck if a key is present in a dictionary\n",
    "'''\n"
   ]
  }
 ],
 "metadata": {
  "kernelspec": {
   "display_name": "Python 3 (ipykernel)",
   "language": "python",
   "name": "python3"
  },
  "language_info": {
   "codemirror_mode": {
    "name": "ipython",
    "version": 3
   },
   "file_extension": ".py",
   "mimetype": "text/x-python",
   "name": "python",
   "nbconvert_exporter": "python",
   "pygments_lexer": "ipython3",
   "version": "3.13.5"
  }
 },
 "nbformat": 4,
 "nbformat_minor": 5
}
