{
 "cells": [
  {
   "cell_type": "code",
   "execution_count": 105,
   "id": "0b5c3d1b-ee60-47e4-aef0-1f2b4ae93f55",
   "metadata": {},
   "outputs": [],
   "source": [
    "#String Methods"
   ]
  },
  {
   "cell_type": "code",
   "execution_count": 106,
   "id": "0614bda2-9caf-4312-a057-3739bb088091",
   "metadata": {},
   "outputs": [
    {
     "name": "stdout",
     "output_type": "stream",
     "text": [
      "Hello, this is shivani.\n"
     ]
    }
   ],
   "source": [
    "#capitalize\n",
    "ps = \"hello, this is Shivani.\"\n",
    "s = ps.capitalize()\n",
    "print(s)"
   ]
  },
  {
   "cell_type": "code",
   "execution_count": 107,
   "id": "ecae73be-e041-45e8-9f23-4e9fc62697bd",
   "metadata": {},
   "outputs": [
    {
     "name": "stdout",
     "output_type": "stream",
     "text": [
      "hello, this is shivani.\n"
     ]
    }
   ],
   "source": [
    "#casefold\n",
    "ps = \"Hello, this is Shivani.\"\n",
    "s = ps.casefold()\n",
    "print(s)"
   ]
  },
  {
   "cell_type": "code",
   "execution_count": 108,
   "id": "fc0709c0-ee93-4b48-ac3c-c13ab56edda4",
   "metadata": {},
   "outputs": [
    {
     "name": "stdout",
     "output_type": "stream",
     "text": [
      "1\n"
     ]
    }
   ],
   "source": [
    "#count\n",
    "ps = \"Hello, this is Shivani.\"\n",
    "s = ps.count(\"Shivani\")\n",
    "print(s)"
   ]
  },
  {
   "cell_type": "code",
   "execution_count": 109,
   "id": "155ca5bc-6816-4c41-b3ec-0fe67565ef36",
   "metadata": {},
   "outputs": [
    {
     "name": "stdout",
     "output_type": "stream",
     "text": [
      "b'Hello, this is Shivani.'\n"
     ]
    }
   ],
   "source": [
    "#encode\n",
    "ps = \"Hello, this is Shivani.\"\n",
    "s = ps.encode()\n",
    "print(s)"
   ]
  },
  {
   "cell_type": "code",
   "execution_count": 110,
   "id": "5e4094d8-9555-491a-a01c-ef759ff0847b",
   "metadata": {},
   "outputs": [
    {
     "name": "stdout",
     "output_type": "stream",
     "text": [
      "True\n"
     ]
    }
   ],
   "source": [
    "#endswith\n",
    "ps = \"Hello, this is Shivani.\"\n",
    "s = ps.endswith(\".\")\n",
    "print(s)"
   ]
  },
  {
   "cell_type": "code",
   "execution_count": 111,
   "id": "b07a4f7e-8c11-4c30-8afb-3dfa11adb479",
   "metadata": {},
   "outputs": [
    {
     "name": "stdout",
     "output_type": "stream",
     "text": [
      "Hello     this is   Shivani.\n"
     ]
    }
   ],
   "source": [
    "#expandtabs\n",
    "ps = \"Hello\\tthis\\tis\\tShivani.\"\n",
    "s = ps.expandtabs(5)\n",
    "print(s)"
   ]
  },
  {
   "cell_type": "code",
   "execution_count": 112,
   "id": "2951f2a7-d34c-4f31-9a9d-b4fea26de040",
   "metadata": {},
   "outputs": [
    {
     "name": "stdout",
     "output_type": "stream",
     "text": [
      "15\n"
     ]
    }
   ],
   "source": [
    "#find\n",
    "ps = \"Hello, this is Shivani.\"\n",
    "s = ps.find(\"Shivani\")\n",
    "print(s)"
   ]
  },
  {
   "cell_type": "code",
   "execution_count": 113,
   "id": "c9a6fca8-d2c4-42a1-b76c-3b5ef57f4966",
   "metadata": {},
   "outputs": [
    {
     "name": "stdout",
     "output_type": "stream",
     "text": [
      "My name is Shivani. I'm 25\n"
     ]
    }
   ],
   "source": [
    "#format\n",
    "ps = \"My name is {fname}. I'm {age}\"\n",
    "print(ps.format(fname = \"Shivani\", age = 25))"
   ]
  },
  {
   "cell_type": "code",
   "execution_count": 114,
   "id": "ab5eb828-1f79-4927-99b2-1c9ab4dd16eb",
   "metadata": {},
   "outputs": [
    {
     "name": "stdout",
     "output_type": "stream",
     "text": [
      "15\n"
     ]
    }
   ],
   "source": [
    "#index\n",
    "ps = \"Hello, this is Shivani.\"\n",
    "s = ps.index(\"Shivani\")\n",
    "print(s)"
   ]
  },
  {
   "cell_type": "code",
   "execution_count": 115,
   "id": "8410ca07-efad-4750-ab03-603de024f541",
   "metadata": {},
   "outputs": [
    {
     "name": "stdout",
     "output_type": "stream",
     "text": [
      "False\n"
     ]
    }
   ],
   "source": [
    "#isalnum\n",
    "ps = \"Hello, this is Shivani.\"\n",
    "s = ps.isalnum()\n",
    "print(s)"
   ]
  },
  {
   "cell_type": "code",
   "execution_count": 116,
   "id": "af49a609-61c2-4b64-97fb-3334749cb815",
   "metadata": {},
   "outputs": [
    {
     "name": "stdout",
     "output_type": "stream",
     "text": [
      "True\n"
     ]
    }
   ],
   "source": [
    "#isalpha\n",
    "ps = \"HellothiisShivani\"\n",
    "s = ps.isalpha()\n",
    "print(s)"
   ]
  },
  {
   "cell_type": "code",
   "execution_count": 117,
   "id": "1f3ea86e-5097-4ef1-981b-002decb22765",
   "metadata": {},
   "outputs": [
    {
     "name": "stdout",
     "output_type": "stream",
     "text": [
      "True\n"
     ]
    }
   ],
   "source": [
    "#isdecimal\n",
    "ps = \"12345\"\n",
    "s = ps.isdecimal()\n",
    "print(s)"
   ]
  },
  {
   "cell_type": "code",
   "execution_count": 118,
   "id": "4f707e5d-27f2-4322-800d-37d3c816aca2",
   "metadata": {},
   "outputs": [
    {
     "name": "stdout",
     "output_type": "stream",
     "text": [
      "True\n"
     ]
    }
   ],
   "source": [
    "#isdigit\n",
    "ps = \"12345\"\n",
    "s = ps.isdigit()\n",
    "print(s)"
   ]
  },
  {
   "cell_type": "code",
   "execution_count": 119,
   "id": "b5c5fb43-2c1f-47f8-b4ad-fa0fe5e61559",
   "metadata": {},
   "outputs": [
    {
     "name": "stdout",
     "output_type": "stream",
     "text": [
      "True\n"
     ]
    }
   ],
   "source": [
    "#isidentifier\n",
    "ps = \"Demo\"\n",
    "s = ps.isidentifier()\n",
    "print(s)"
   ]
  },
  {
   "cell_type": "code",
   "execution_count": 120,
   "id": "9ae120e2-26b9-4ea2-9f55-ff54d10309d5",
   "metadata": {},
   "outputs": [
    {
     "name": "stdout",
     "output_type": "stream",
     "text": [
      "False\n"
     ]
    }
   ],
   "source": [
    "#istitle\n",
    "ps = \"Hello, this is Shivani.\"\n",
    "s = ps.istitle()\n",
    "print(s)"
   ]
  },
  {
   "cell_type": "code",
   "execution_count": 121,
   "id": "666423b2-4703-46a7-b9dd-5e70331e36e4",
   "metadata": {},
   "outputs": [
    {
     "name": "stdout",
     "output_type": "stream",
     "text": [
      "True\n"
     ]
    }
   ],
   "source": [
    "#isupper\n",
    "ps = \"HELLO\"\n",
    "s = ps.isupper()\n",
    "print(s)"
   ]
  },
  {
   "cell_type": "code",
   "execution_count": 122,
   "id": "0f7d12d3-6671-44b0-a60f-c0cb5d540f04",
   "metadata": {},
   "outputs": [
    {
     "name": "stdout",
     "output_type": "stream",
     "text": [
      "False\n"
     ]
    }
   ],
   "source": [
    "#islower\n",
    "ps = \"HELLO\"\n",
    "s = ps.islower()\n",
    "print(s)"
   ]
  },
  {
   "cell_type": "code",
   "execution_count": 123,
   "id": "8b3079ce-cfb0-414c-a8a6-d7ddc10ae508",
   "metadata": {},
   "outputs": [
    {
     "name": "stdout",
     "output_type": "stream",
     "text": [
      "Butter,Jam,Nutella\n"
     ]
    }
   ],
   "source": [
    "#join\n",
    "ps = (\"Butter\", \"Jam\", \"Nutella\")\n",
    "s = \",\".join(ps)\n",
    "print(s)"
   ]
  },
  {
   "cell_type": "code",
   "execution_count": 124,
   "id": "6c50b9ef-c472-4888-8725-33636767adda",
   "metadata": {},
   "outputs": [
    {
     "name": "stdout",
     "output_type": "stream",
     "text": [
      "hello\n"
     ]
    }
   ],
   "source": [
    "#lower\n",
    "ps = \"HELLO\"\n",
    "s = ps.lower()\n",
    "print(s)"
   ]
  },
  {
   "cell_type": "code",
   "execution_count": 125,
   "id": "f9789d5a-59ca-4704-9efa-c131c8c0ae5b",
   "metadata": {},
   "outputs": [
    {
     "name": "stdout",
     "output_type": "stream",
     "text": [
      "Hello, this is Reese.\n"
     ]
    }
   ],
   "source": [
    "#replace\n",
    "ps = \"Hello, this is Shivani.\"\n",
    "s = ps.replace(\"Shivani\", \"Reese\")\n",
    "print(s)"
   ]
  },
  {
   "cell_type": "code",
   "execution_count": 126,
   "id": "21310660-6fff-49ef-93eb-bd8a078203d8",
   "metadata": {},
   "outputs": [
    {
     "name": "stdout",
     "output_type": "stream",
     "text": [
      "15\n"
     ]
    }
   ],
   "source": [
    "#rfind\n",
    "ps = \"Hello, this is Shivani.\"\n",
    "s = ps.rfind(\"Shivani\")\n",
    "print(s)"
   ]
  },
  {
   "cell_type": "code",
   "execution_count": 127,
   "id": "6d67b550-4cac-427c-aba4-3991835aaa6a",
   "metadata": {},
   "outputs": [
    {
     "name": "stdout",
     "output_type": "stream",
     "text": [
      "           marmalade\n"
     ]
    }
   ],
   "source": [
    "#rjust\n",
    "ps = \"marmalade\"\n",
    "s = ps.rjust(20)\n",
    "print(s)"
   ]
  },
  {
   "cell_type": "code",
   "execution_count": 128,
   "id": "1a6c6177-331d-4553-90d8-8afad1cabea7",
   "metadata": {},
   "outputs": [
    {
     "name": "stdout",
     "output_type": "stream",
     "text": [
      "('I could eat ', 'marmalade', ' all day')\n"
     ]
    }
   ],
   "source": [
    "#rpartition\n",
    "ps = \"I could eat marmalade all day\"\n",
    "s = ps.rpartition(\"marmalade\")\n",
    "print(s)"
   ]
  },
  {
   "cell_type": "code",
   "execution_count": 129,
   "id": "853b9563-e675-4a02-892a-1baab013a65f",
   "metadata": {},
   "outputs": [
    {
     "name": "stdout",
     "output_type": "stream",
     "text": [
      "['Hello,', 'this', 'is', 'Shivani.']\n"
     ]
    }
   ],
   "source": [
    "#split\n",
    "ps = \"Hello, this is Shivani.\"\n",
    "s = ps.split()\n",
    "print(s)"
   ]
  },
  {
   "cell_type": "code",
   "execution_count": 130,
   "id": "4d58df9b-0fe6-4115-ad08-b10a4d736237",
   "metadata": {},
   "outputs": [
    {
     "name": "stdout",
     "output_type": "stream",
     "text": [
      "hELLO, THIS IS sHIVANI.\n"
     ]
    }
   ],
   "source": [
    "#swapcase\n",
    "ps = \"Hello, this is Shivani.\"\n",
    "s = ps.swapcase()\n",
    "print(s)"
   ]
  },
  {
   "cell_type": "code",
   "execution_count": 131,
   "id": "728b18b8-b5fa-404b-8b36-987ed523d2ba",
   "metadata": {},
   "outputs": [
    {
     "name": "stdout",
     "output_type": "stream",
     "text": [
      "HELLO, THIS IS SHIVANI.\n"
     ]
    }
   ],
   "source": [
    "#upper\n",
    "ps = \"Hello, this is Shivani.\"\n",
    "s = ps.upper()\n",
    "print(s)"
   ]
  },
  {
   "cell_type": "code",
   "execution_count": 132,
   "id": "9d52f9d0-fea0-4ea3-b442-e73ff2106e6d",
   "metadata": {},
   "outputs": [
    {
     "name": "stdout",
     "output_type": "stream",
     "text": [
      "Hello, This Is Shivani.\n"
     ]
    }
   ],
   "source": [
    "#title\n",
    "ps = \"hello, this is Shivani.\"\n",
    "s = ps.title()\n",
    "print(s)"
   ]
  },
  {
   "cell_type": "code",
   "execution_count": 133,
   "id": "d8116d26-2616-4882-b96a-92baea694740",
   "metadata": {},
   "outputs": [
    {
     "name": "stdout",
     "output_type": "stream",
     "text": [
      "0000000090\n"
     ]
    }
   ],
   "source": [
    "#zfill\n",
    "ps = \"90\"\n",
    "s = ps.zfill(10)\n",
    "print(s)"
   ]
  },
  {
   "cell_type": "code",
   "execution_count": 134,
   "id": "f94347f3-65d1-4721-b631-d9603b334e09",
   "metadata": {},
   "outputs": [],
   "source": [
    "#List Methods"
   ]
  },
  {
   "cell_type": "code",
   "execution_count": 135,
   "id": "c083a186-efd3-43e6-9131-e75014590b56",
   "metadata": {},
   "outputs": [
    {
     "name": "stdout",
     "output_type": "stream",
     "text": [
      "['bmw', 'audi', 'jaguar', 'spyker']\n"
     ]
    }
   ],
   "source": [
    "#Append\n",
    "cars = ['bmw', 'audi', 'jaguar']\n",
    "cars.append('spyker')\n",
    "print(cars)"
   ]
  },
  {
   "cell_type": "code",
   "execution_count": 136,
   "id": "91b770c8-22ba-4b27-8031-e80a12647793",
   "metadata": {},
   "outputs": [
    {
     "name": "stdout",
     "output_type": "stream",
     "text": [
      "[]\n"
     ]
    }
   ],
   "source": [
    "#Clear\n",
    "cars = ['bmw', 'audi', 'jaguar']\n",
    "cars.clear()\n",
    "print(cars)"
   ]
  },
  {
   "cell_type": "code",
   "execution_count": 137,
   "id": "f8045d8c-4c91-4295-8e04-34509071f603",
   "metadata": {},
   "outputs": [
    {
     "name": "stdout",
     "output_type": "stream",
     "text": [
      "['bmw', 'audi', 'jaguar']\n"
     ]
    }
   ],
   "source": [
    "#Copy\n",
    "cars = ['bmw', 'audi', 'jaguar']\n",
    "s = cars.copy()\n",
    "print(s)"
   ]
  },
  {
   "cell_type": "code",
   "execution_count": 138,
   "id": "f2e3e0fd-d3f6-4f24-b6b9-737fce967953",
   "metadata": {},
   "outputs": [
    {
     "name": "stdout",
     "output_type": "stream",
     "text": [
      "1\n"
     ]
    }
   ],
   "source": [
    "#Count\n",
    "cars = ['bmw', 'audi', 'jaguar']\n",
    "s = cars.count('jaguar')\n",
    "print(s)"
   ]
  },
  {
   "cell_type": "code",
   "execution_count": 139,
   "id": "287d3851-5529-48a1-9d34-04d2e70110d3",
   "metadata": {},
   "outputs": [
    {
     "name": "stdout",
     "output_type": "stream",
     "text": [
      "['bmw', 'audi', 'jaguar', 'spyker', 'ferrari', 'lamborgini']\n"
     ]
    }
   ],
   "source": [
    "#Extend\n",
    "sportscars = ['spyker', 'ferrari', 'lamborgini']\n",
    "cars = ['bmw', 'audi', 'jaguar']\n",
    "cars.extend(sportscars)\n",
    "print(cars)"
   ]
  },
  {
   "cell_type": "code",
   "execution_count": 140,
   "id": "32c1a212-e2d3-49d1-aa35-a880eeb6a326",
   "metadata": {},
   "outputs": [
    {
     "name": "stdout",
     "output_type": "stream",
     "text": [
      "2\n"
     ]
    }
   ],
   "source": [
    "#Index\n",
    "cars = ['bmw', 'audi', 'jaguar']\n",
    "s = cars.index('jaguar')\n",
    "print(s)"
   ]
  },
  {
   "cell_type": "code",
   "execution_count": 141,
   "id": "9a6c6347-3dc7-4422-89ac-46c12d47356d",
   "metadata": {},
   "outputs": [
    {
     "name": "stdout",
     "output_type": "stream",
     "text": [
      "['bmw', 'audi', 'spyker', 'jaguar']\n"
     ]
    }
   ],
   "source": [
    "#Insert\n",
    "cars = ['bmw', 'audi', 'jaguar']\n",
    "cars.insert(2, 'spyker')\n",
    "print(cars)"
   ]
  },
  {
   "cell_type": "code",
   "execution_count": 142,
   "id": "d7dd446c-7020-4c26-a145-0e753e54fbb3",
   "metadata": {},
   "outputs": [
    {
     "name": "stdout",
     "output_type": "stream",
     "text": [
      "['bmw', 'audi']\n"
     ]
    }
   ],
   "source": [
    "#pop\n",
    "cars = ['bmw', 'audi', 'jaguar']\n",
    "cars.pop(2)\n",
    "print(cars)"
   ]
  },
  {
   "cell_type": "code",
   "execution_count": 143,
   "id": "bef6c382-5c2b-4eb7-993e-364aa7e15092",
   "metadata": {},
   "outputs": [
    {
     "name": "stdout",
     "output_type": "stream",
     "text": [
      "['bmw', 'audi']\n"
     ]
    }
   ],
   "source": [
    "#remove\n",
    "cars = ['bmw', 'audi', 'jaguar']\n",
    "cars.remove('jaguar')\n",
    "print(cars)"
   ]
  },
  {
   "cell_type": "code",
   "execution_count": 144,
   "id": "9efc68bd-dd48-485c-ad8d-41d6a54c44ca",
   "metadata": {},
   "outputs": [
    {
     "name": "stdout",
     "output_type": "stream",
     "text": [
      "['jaguar', 'audi', 'bmw']\n"
     ]
    }
   ],
   "source": [
    "#reverse\n",
    "cars = ['bmw', 'audi', 'jaguar']\n",
    "cars.reverse()\n",
    "print(cars)"
   ]
  },
  {
   "cell_type": "code",
   "execution_count": 145,
   "id": "ab761b28-3940-459b-bed4-7497fa19e8de",
   "metadata": {},
   "outputs": [
    {
     "name": "stdout",
     "output_type": "stream",
     "text": [
      "['audi', 'bmw', 'jaguar']\n"
     ]
    }
   ],
   "source": [
    "#sort\n",
    "cars = ['bmw', 'audi', 'jaguar']\n",
    "cars.sort()\n",
    "print(cars)"
   ]
  },
  {
   "cell_type": "code",
   "execution_count": 146,
   "id": "7ba06251-e108-4567-b987-fefeb298b40c",
   "metadata": {},
   "outputs": [],
   "source": [
    "#Set Methods"
   ]
  },
  {
   "cell_type": "code",
   "execution_count": 147,
   "id": "559773e2-03fa-4f75-9576-5667b1e2bab6",
   "metadata": {},
   "outputs": [
    {
     "name": "stdout",
     "output_type": "stream",
     "text": [
      "{'audi', 'jaguar', 'spyker', 'bmw'}\n"
     ]
    }
   ],
   "source": [
    "#Add\n",
    "cars = {'bmw', 'audi', 'jaguar'}\n",
    "cars.add('spyker')\n",
    "print(cars)"
   ]
  },
  {
   "cell_type": "code",
   "execution_count": 148,
   "id": "654bd238-492f-4149-aca0-e11d18490acc",
   "metadata": {},
   "outputs": [
    {
     "name": "stdout",
     "output_type": "stream",
     "text": [
      "set()\n"
     ]
    }
   ],
   "source": [
    "#clear\n",
    "cars = {'bmw', 'audi', 'jaguar'}\n",
    "cars.clear()\n",
    "print(cars)"
   ]
  },
  {
   "cell_type": "code",
   "execution_count": 149,
   "id": "66fb7905-d7f6-459c-a470-7b51af234e42",
   "metadata": {},
   "outputs": [
    {
     "name": "stdout",
     "output_type": "stream",
     "text": [
      "{'audi', 'jaguar', 'bmw'}\n"
     ]
    }
   ],
   "source": [
    "#copy\n",
    "cars = {'bmw', 'audi', 'jaguar'}\n",
    "s = cars.copy()\n",
    "print(s)"
   ]
  },
  {
   "cell_type": "code",
   "execution_count": 150,
   "id": "c7d384f5-793b-4f24-9807-b577ca4f3b3f",
   "metadata": {},
   "outputs": [
    {
     "name": "stdout",
     "output_type": "stream",
     "text": [
      "{'jaguar', 'bmw'}\n"
     ]
    }
   ],
   "source": [
    "#difference\n",
    "cars = {'bmw', 'audi', 'jaguar'}\n",
    "supercars = {'audi', 'spyker', 'maserati'}\n",
    "s = cars.difference(supercars)\n",
    "print(s)"
   ]
  },
  {
   "cell_type": "code",
   "execution_count": 151,
   "id": "17c7a734-c27b-455b-9777-06e58e3dd68d",
   "metadata": {},
   "outputs": [
    {
     "name": "stdout",
     "output_type": "stream",
     "text": [
      "{'audi', 'jaguar'}\n"
     ]
    }
   ],
   "source": [
    "#discard\n",
    "cars = {'bmw', 'audi', 'jaguar'}\n",
    "cars.discard('bmw')\n",
    "print(cars)"
   ]
  },
  {
   "cell_type": "code",
   "execution_count": 152,
   "id": "2da9f9c7-5ff5-4fa5-8049-79f5ed004a3e",
   "metadata": {},
   "outputs": [
    {
     "name": "stdout",
     "output_type": "stream",
     "text": [
      "{'audi'}\n"
     ]
    }
   ],
   "source": [
    "#intersection\n",
    "cars = {'bmw', 'audi', 'jaguar'}\n",
    "supercars = {'audi', 'spyker', 'maserati'}\n",
    "s = cars.intersection(supercars)\n",
    "print(s)"
   ]
  },
  {
   "cell_type": "code",
   "execution_count": 153,
   "id": "20f94c43-df10-4733-81d7-9d329b23f630",
   "metadata": {},
   "outputs": [
    {
     "name": "stdout",
     "output_type": "stream",
     "text": [
      "{'audi'}\n"
     ]
    }
   ],
   "source": [
    "#intersection_update\n",
    "cars = {'bmw', 'audi', 'jaguar'}\n",
    "supercars = {'audi', 'spyker', 'maserati'}\n",
    "cars.intersection_update(supercars)\n",
    "print(cars)"
   ]
  },
  {
   "cell_type": "code",
   "execution_count": 154,
   "id": "e835c0c3-8d2d-44bc-9001-bf487de086da",
   "metadata": {},
   "outputs": [
    {
     "name": "stdout",
     "output_type": "stream",
     "text": [
      "False\n"
     ]
    }
   ],
   "source": [
    "#isdisjoint\n",
    "cars = {'bmw', 'audi', 'jaguar'}\n",
    "supercars = {'audi', 'spyker', 'maserati'}\n",
    "s = cars.isdisjoint(supercars)\n",
    "print(s)"
   ]
  },
  {
   "cell_type": "code",
   "execution_count": 155,
   "id": "385ab05f-dae3-4aa9-b401-b891bed2142e",
   "metadata": {},
   "outputs": [
    {
     "name": "stdout",
     "output_type": "stream",
     "text": [
      "True\n"
     ]
    }
   ],
   "source": [
    "#issuperset\n",
    "cars = {'bmw', 'audi', 'jaguar', 'audi', 'spyker', 'maserati'}\n",
    "supercars = {'audi', 'spyker', 'maserati'}\n",
    "s = cars.issuperset(supercars)\n",
    "print(s)"
   ]
  },
  {
   "cell_type": "code",
   "execution_count": 156,
   "id": "73855113-1069-45a3-9fcb-accf400569db",
   "metadata": {},
   "outputs": [
    {
     "name": "stdout",
     "output_type": "stream",
     "text": [
      "{'jaguar', 'bmw'}\n"
     ]
    }
   ],
   "source": [
    "#pop\n",
    "cars = {'bmw', 'audi', 'jaguar'}\n",
    "cars.pop()\n",
    "print(cars)"
   ]
  },
  {
   "cell_type": "code",
   "execution_count": 157,
   "id": "b959083a-e1f1-4ada-b64b-7318aba92455",
   "metadata": {},
   "outputs": [
    {
     "name": "stdout",
     "output_type": "stream",
     "text": [
      "{'jaguar', 'maserati', 'spyker', 'bmw'}\n"
     ]
    }
   ],
   "source": [
    "#symmetric_difference\n",
    "cars = {'bmw', 'audi', 'jaguar'}\n",
    "supercars = {'audi', 'spyker', 'maserati'}\n",
    "s = cars.symmetric_difference(supercars)\n",
    "print(s)"
   ]
  },
  {
   "cell_type": "code",
   "execution_count": 158,
   "id": "f3db37ca-5287-4ac7-9c43-f0c494d3d1f5",
   "metadata": {},
   "outputs": [
    {
     "name": "stdout",
     "output_type": "stream",
     "text": [
      "{'bmw', 'spyker', 'maserati', 'jaguar'}\n"
     ]
    }
   ],
   "source": [
    "#symmetric_difference_update\n",
    "cars = {'bmw', 'audi', 'jaguar'}\n",
    "supercars = {'audi', 'spyker', 'maserati'}\n",
    "cars.symmetric_difference_update(supercars)\n",
    "print(cars)"
   ]
  },
  {
   "cell_type": "code",
   "execution_count": 159,
   "id": "bc33e8bf-67b0-4e61-973b-ce272a8edc44",
   "metadata": {},
   "outputs": [
    {
     "name": "stdout",
     "output_type": "stream",
     "text": [
      "{'bmw', 'jaguar', 'spyker', 'maserati', 'audi'}\n"
     ]
    }
   ],
   "source": [
    "#union\n",
    "cars = {'bmw', 'audi', 'jaguar'}\n",
    "supercars = {'audi', 'spyker', 'maserati'}\n",
    "s = cars.union(supercars)\n",
    "print(s)"
   ]
  },
  {
   "cell_type": "code",
   "execution_count": 160,
   "id": "b5dcb2ea-b2cb-440c-9ad6-808093b17e4c",
   "metadata": {},
   "outputs": [
    {
     "name": "stdout",
     "output_type": "stream",
     "text": [
      "{'bmw', 'jaguar', 'spyker', 'maserati', 'audi'}\n"
     ]
    }
   ],
   "source": [
    "#update\n",
    "cars = {'bmw', 'audi', 'jaguar'}\n",
    "supercars = {'audi', 'spyker', 'maserati'}\n",
    "cars.update(supercars)\n",
    "print(cars)"
   ]
  },
  {
   "cell_type": "code",
   "execution_count": null,
   "id": "88bf1d4e-cb3c-4ded-b1fc-8b4710eb034f",
   "metadata": {},
   "outputs": [],
   "source": []
  }
 ],
 "metadata": {
  "kernelspec": {
   "display_name": "Python 3 (ipykernel)",
   "language": "python",
   "name": "python3"
  },
  "language_info": {
   "codemirror_mode": {
    "name": "ipython",
    "version": 3
   },
   "file_extension": ".py",
   "mimetype": "text/x-python",
   "name": "python",
   "nbconvert_exporter": "python",
   "pygments_lexer": "ipython3",
   "version": "3.13.5"
  }
 },
 "nbformat": 4,
 "nbformat_minor": 5
}
