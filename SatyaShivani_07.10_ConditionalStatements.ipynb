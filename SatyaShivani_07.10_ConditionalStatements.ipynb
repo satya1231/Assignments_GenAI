{
 "cells": [
  {
   "cell_type": "code",
   "execution_count": 5,
   "id": "d63dcd0e-4835-4732-87a5-a0ffc7785fed",
   "metadata": {},
   "outputs": [
    {
     "name": "stdin",
     "output_type": "stream",
     "text": [
      "please enter the number 4\n"
     ]
    },
    {
     "name": "stdout",
     "output_type": "stream",
     "text": [
      "It's not a prime number\n"
     ]
    }
   ],
   "source": [
    "#Check whether the number is prime or not\n",
    "x = int(input(\"please enter the number\"))\n",
    "if x <= 1:\n",
    "    print(\"It's not a prime number\")\n",
    "elif x == 2:\n",
    "    print(\"Prime Number\")\n",
    "else:\n",
    "    for i in range(2, int(x**0.5) + 1):\n",
    "       if x % i == 0:\n",
    "           print(\"It's not a prime number\")\n",
    "           break\n",
    "       else:\n",
    "           print(\"Prime Number\")\n"
   ]
  },
  {
   "cell_type": "code",
   "execution_count": 6,
   "id": "9d3601c0-d968-441b-bb46-dbbfe227dcb7",
   "metadata": {},
   "outputs": [
    {
     "name": "stdin",
     "output_type": "stream",
     "text": [
      "Please enter the number 3\n"
     ]
    },
    {
     "name": "stdout",
     "output_type": "stream",
     "text": [
      "odd\n"
     ]
    }
   ],
   "source": [
    "#Check whether the number is odd or even\n",
    "x = int(input(\"Please enter the number\"))\n",
    "if x % 2 == 0:\n",
    "        print(\"even number\")\n",
    "else:\n",
    "        print(\"odd\")"
   ]
  },
  {
   "cell_type": "code",
   "execution_count": 13,
   "id": "93b653d1-396f-4f24-a9e8-b5e8425a157f",
   "metadata": {},
   "outputs": [
    {
     "name": "stdin",
     "output_type": "stream",
     "text": [
      "Please enter the number -5\n"
     ]
    },
    {
     "name": "stdout",
     "output_type": "stream",
     "text": [
      "negative\n"
     ]
    }
   ],
   "source": [
    "#Check whether the number is positive or negative\n",
    "x = float(input(\"Please enter the number\"))\n",
    "if x > 0:\n",
    "        print(\"positive\")\n",
    "elif x < 0:\n",
    "        print(\"negative\")\n",
    "else:\n",
    "        print(\"the number is zero\")"
   ]
  },
  {
   "cell_type": "code",
   "execution_count": 7,
   "id": "a71a0ce4-59bd-4700-b0ac-8e38ba309b0d",
   "metadata": {},
   "outputs": [
    {
     "name": "stdin",
     "output_type": "stream",
     "text": [
      "Please Enter Your Password vanish1\n"
     ]
    },
    {
     "name": "stdout",
     "output_type": "stream",
     "text": [
      "correct\n"
     ]
    }
   ],
   "source": [
    "#Check whether the password is correct or incorrect\n",
    "password = \"vanish1\"\n",
    "x = input(\"Please Enter Your Password\")\n",
    "if password == x:\n",
    "   print(\"correct\")\n",
    "else:\n",
    "   print(\"incorrect\")"
   ]
  },
  {
   "cell_type": "code",
   "execution_count": 28,
   "id": "95ed42e3-22fc-47ea-8695-b7c13cc8479e",
   "metadata": {},
   "outputs": [
    {
     "name": "stdin",
     "output_type": "stream",
     "text": [
      "please enter the number of elements  10\n"
     ]
    },
    {
     "name": "stdout",
     "output_type": "stream",
     "text": [
      "please enter the numbers \n"
     ]
    },
    {
     "name": "stdin",
     "output_type": "stream",
     "text": [
      " 1\n",
      " 2\n",
      " 3\n",
      " 4\n",
      " 5\n",
      " 6\n",
      " 7\n",
      " 8\n",
      " 9\n",
      " 0\n"
     ]
    },
    {
     "name": "stdout",
     "output_type": "stream",
     "text": [
      "List:  [1, 2, 3, 4, 5, 6, 7, 8, 9, 0]\n",
      "2\n",
      "4\n",
      "6\n",
      "8\n",
      "0\n"
     ]
    }
   ],
   "source": [
    "#Print all the even numbers from the list of elements\n",
    "mylist = []\n",
    "n = int(input(\"please enter the number of elements \"))\n",
    "print(\"please enter the numbers \")\n",
    "for i in range(n):\n",
    "    x = int(input())\n",
    "    mylist.append(x)\n",
    "print(\"List: \", mylist)\n",
    "for i in range(n):\n",
    "    if mylist[i] % 2 == 0:\n",
    "        print(mylist[i])\n",
    "        i == i+1\n",
    "        "
   ]
  },
  {
   "cell_type": "code",
   "execution_count": 29,
   "id": "a8c04a3e-c9f8-496a-857b-0c0b03d3e623",
   "metadata": {},
   "outputs": [
    {
     "name": "stdin",
     "output_type": "stream",
     "text": [
      "please enter the number of elements  10\n"
     ]
    },
    {
     "name": "stdout",
     "output_type": "stream",
     "text": [
      "please enter the numbers \n"
     ]
    },
    {
     "name": "stdin",
     "output_type": "stream",
     "text": [
      " 1\n",
      " 2\n",
      " 3\n",
      " 4\n",
      " 5\n",
      " 6\n",
      " 7\n",
      " 8\n",
      " 9\n",
      " 0\n"
     ]
    },
    {
     "name": "stdout",
     "output_type": "stream",
     "text": [
      "List:  [1, 2, 3, 4, 5, 6, 7, 8, 9, 0]\n",
      "1\n",
      "3\n",
      "5\n",
      "7\n",
      "9\n"
     ]
    }
   ],
   "source": [
    "#Print all the odd numbers from the list of elements\n",
    "mylist = []\n",
    "n = int(input(\"please enter the number of elements \"))\n",
    "print(\"please enter the numbers \")\n",
    "for i in range(n):\n",
    "    x = int(input())\n",
    "    mylist.append(x)\n",
    "print(\"List: \", mylist)\n",
    "for i in range(n):\n",
    "    if mylist[i] % 2 != 0:\n",
    "        print(mylist[i])\n",
    "        i == i+1"
   ]
  },
  {
   "cell_type": "code",
   "execution_count": 38,
   "id": "1ee1db30-9ded-4fd3-ad6f-cd5238fcf7c1",
   "metadata": {},
   "outputs": [
    {
     "name": "stdin",
     "output_type": "stream",
     "text": [
      "Please enter a sentence:  Hello, Stranger!\n"
     ]
    },
    {
     "name": "stdout",
     "output_type": "stream",
     "text": [
      "Vowels in the sentence are: \n",
      "e\n",
      "o\n",
      "a\n",
      "e\n"
     ]
    }
   ],
   "source": [
    "#Print vowels from the string\n",
    "sentence = input(\"Please enter a sentence: \")\n",
    "vowels = ['a', 'e', 'i', 'o', 'u']\n",
    "print(\"Vowels in the sentence are: \")\n",
    "for letter in sentence:\n",
    "    if letter.lower() in vowels:\n",
    "        print(letter)"
   ]
  },
  {
   "cell_type": "code",
   "execution_count": null,
   "id": "09202055-5add-4adf-9652-e925d8083183",
   "metadata": {},
   "outputs": [],
   "source": []
  }
 ],
 "metadata": {
  "kernelspec": {
   "display_name": "Python 3 (ipykernel)",
   "language": "python",
   "name": "python3"
  },
  "language_info": {
   "codemirror_mode": {
    "name": "ipython",
    "version": 3
   },
   "file_extension": ".py",
   "mimetype": "text/x-python",
   "name": "python",
   "nbconvert_exporter": "python",
   "pygments_lexer": "ipython3",
   "version": "3.13.5"
  }
 },
 "nbformat": 4,
 "nbformat_minor": 5
}
